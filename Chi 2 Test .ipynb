{
 "cells": [
  {
   "cell_type": "code",
   "execution_count": 183,
   "id": "manufactured-broad",
   "metadata": {},
   "outputs": [],
   "source": [
    "import numpy as np\n",
    "import pandas as pd\n",
    "import statsmodels.api as sm\n",
    "from easygui import fileopenbox\n",
    "pd.set_option('display.float_format','{:.5f}'.format)\n",
    "pd.set_option('display.max_rows',2000)"
   ]
  },
  {
   "cell_type": "code",
   "execution_count": 75,
   "id": "perceived-concept",
   "metadata": {},
   "outputs": [],
   "source": [
    "d=pd.read_csv(fileopenbox())"
   ]
  },
  {
   "cell_type": "code",
   "execution_count": 76,
   "id": "honey-bargain",
   "metadata": {},
   "outputs": [
    {
     "data": {
      "text/plain": [
       "Client.Category       41\n",
       "Solution.Type         67\n",
       "Deal.Date           2555\n",
       "Sector                25\n",
       "Location              13\n",
       "VP.Name               43\n",
       "Manager.Name         278\n",
       "Deal.Cost           1468\n",
       "Deal.Status.Code       2\n",
       "dtype: int64"
      ]
     },
     "execution_count": 76,
     "metadata": {},
     "output_type": "execute_result"
    }
   ],
   "source": [
    "d.nunique()"
   ]
  },
  {
   "cell_type": "markdown",
   "id": "favorite-fountain",
   "metadata": {},
   "source": [
    "## Checking for independancy using Chi-Square test\n",
    "#### H0: There is no relationship between the variables\n",
    "#### H1: There is a relationship between variables\n"
   ]
  },
  {
   "cell_type": "code",
   "execution_count": 77,
   "id": "novel-illinois",
   "metadata": {},
   "outputs": [
    {
     "name": "stdout",
     "output_type": "stream",
     "text": [
      "Chi2 Statistic: 334.66998830092354, p-value: 3.486288611974585e-48\n"
     ]
    }
   ],
   "source": [
    "from scipy.stats import chi2_contingency\n",
    "#Testing the relationship\n",
    "chi_res = chi2_contingency(pd.crosstab(d['Client.Category'], d['Deal.Status.Code']))\n",
    "print('Chi2 Statistic: {}, p-value: {}'.format(chi_res[0], chi_res[1]))"
   ]
  },
  {
   "cell_type": "code",
   "execution_count": 78,
   "id": "sapphire-shelf",
   "metadata": {},
   "outputs": [],
   "source": [
    "categorical_columns=d.select_dtypes(exclude=[np.number]).columns"
   ]
  },
  {
   "cell_type": "code",
   "execution_count": 79,
   "id": "stopped-bench",
   "metadata": {},
   "outputs": [
    {
     "name": "stdout",
     "output_type": "stream",
     "text": [
      "             Column              Hypothesis\n",
      "0   Client.Category  Reject Null Hypothesis\n",
      "1     Solution.Type  Reject Null Hypothesis\n",
      "2         Deal.Date  Reject Null Hypothesis\n",
      "3            Sector  Reject Null Hypothesis\n",
      "4          Location  Reject Null Hypothesis\n",
      "5           VP.Name  Reject Null Hypothesis\n",
      "6      Manager.Name  Reject Null Hypothesis\n",
      "7  Deal.Status.Code  Reject Null Hypothesis\n"
     ]
    }
   ],
   "source": [
    "chi2_check = []\n",
    "for i in categorical_columns:\n",
    "    if chi2_contingency(pd.crosstab(d['Deal.Status.Code'], d[i]))[1] < 0.05:\n",
    "        chi2_check.append('Reject Null Hypothesis')\n",
    "    else:\n",
    "        chi2_check.append('Fail to Reject Null Hypothesis')\n",
    "res = pd.DataFrame(data = [categorical_columns, chi2_check] \n",
    "             ).T \n",
    "res.columns = ['Column', 'Hypothesis']\n",
    "print(res)"
   ]
  },
  {
   "cell_type": "code",
   "execution_count": 80,
   "id": "olympic-miracle",
   "metadata": {},
   "outputs": [
    {
     "name": "stdout",
     "output_type": "stream",
     "text": [
      "             Column                      Hypothesis\n",
      "0   Client.Category          Reject Null Hypothesis\n",
      "1     Solution.Type          Reject Null Hypothesis\n",
      "2         Deal.Date  Fail to Reject Null Hypothesis\n",
      "3            Sector          Reject Null Hypothesis\n",
      "4          Location          Reject Null Hypothesis\n",
      "5           VP.Name          Reject Null Hypothesis\n",
      "6      Manager.Name          Reject Null Hypothesis\n",
      "7  Deal.Status.Code          Reject Null Hypothesis\n"
     ]
    }
   ],
   "source": [
    "chi2_check = []\n",
    "for i in categorical_columns:\n",
    "    if chi2_contingency(pd.crosstab(d['Client.Category'], d[i]))[1] < 0.05:\n",
    "        chi2_check.append('Reject Null Hypothesis')\n",
    "    else:\n",
    "        chi2_check.append('Fail to Reject Null Hypothesis')\n",
    "res = pd.DataFrame(data = [categorical_columns, chi2_check] \n",
    "             ).T \n",
    "res.columns = ['Column', 'Hypothesis']\n",
    "print(res)"
   ]
  },
  {
   "cell_type": "code",
   "execution_count": 81,
   "id": "southeast-impact",
   "metadata": {},
   "outputs": [
    {
     "name": "stdout",
     "output_type": "stream",
     "text": [
      "             Column                      Hypothesis\n",
      "0   Client.Category          Reject Null Hypothesis\n",
      "1     Solution.Type          Reject Null Hypothesis\n",
      "2         Deal.Date  Fail to Reject Null Hypothesis\n",
      "3            Sector          Reject Null Hypothesis\n",
      "4          Location          Reject Null Hypothesis\n",
      "5           VP.Name          Reject Null Hypothesis\n",
      "6      Manager.Name          Reject Null Hypothesis\n",
      "7  Deal.Status.Code          Reject Null Hypothesis\n"
     ]
    }
   ],
   "source": [
    "chi2_check = []\n",
    "for i in categorical_columns:\n",
    "    if chi2_contingency(pd.crosstab(d['Solution.Type'], d[i]))[1] < 0.05:\n",
    "        chi2_check.append('Reject Null Hypothesis')\n",
    "    else:\n",
    "        chi2_check.append('Fail to Reject Null Hypothesis')\n",
    "res = pd.DataFrame(data = [categorical_columns, chi2_check] \n",
    "             ).T \n",
    "res.columns = ['Column', 'Hypothesis']\n",
    "print(res)"
   ]
  },
  {
   "cell_type": "code",
   "execution_count": 82,
   "id": "artificial-winning",
   "metadata": {},
   "outputs": [
    {
     "name": "stdout",
     "output_type": "stream",
     "text": [
      "             Column                      Hypothesis\n",
      "0   Client.Category          Reject Null Hypothesis\n",
      "1     Solution.Type          Reject Null Hypothesis\n",
      "2         Deal.Date  Fail to Reject Null Hypothesis\n",
      "3            Sector          Reject Null Hypothesis\n",
      "4          Location          Reject Null Hypothesis\n",
      "5           VP.Name          Reject Null Hypothesis\n",
      "6      Manager.Name          Reject Null Hypothesis\n",
      "7  Deal.Status.Code          Reject Null Hypothesis\n"
     ]
    }
   ],
   "source": [
    "chi2_check = []\n",
    "for i in categorical_columns:\n",
    "    if chi2_contingency(pd.crosstab(d['Sector'], d[i]))[1] < 0.05:\n",
    "        chi2_check.append('Reject Null Hypothesis')\n",
    "    else:\n",
    "        chi2_check.append('Fail to Reject Null Hypothesis')\n",
    "res = pd.DataFrame(data = [categorical_columns, chi2_check] \n",
    "             ).T \n",
    "res.columns = ['Column', 'Hypothesis']\n",
    "print(res)"
   ]
  },
  {
   "cell_type": "code",
   "execution_count": 83,
   "id": "fallen-chicago",
   "metadata": {},
   "outputs": [
    {
     "name": "stdout",
     "output_type": "stream",
     "text": [
      "             Column                      Hypothesis\n",
      "0   Client.Category          Reject Null Hypothesis\n",
      "1     Solution.Type          Reject Null Hypothesis\n",
      "2         Deal.Date  Fail to Reject Null Hypothesis\n",
      "3            Sector          Reject Null Hypothesis\n",
      "4          Location          Reject Null Hypothesis\n",
      "5           VP.Name          Reject Null Hypothesis\n",
      "6      Manager.Name          Reject Null Hypothesis\n",
      "7  Deal.Status.Code          Reject Null Hypothesis\n"
     ]
    }
   ],
   "source": [
    "chi2_check = []\n",
    "for i in categorical_columns:\n",
    "    if chi2_contingency(pd.crosstab(d['VP.Name'], d[i]))[1] < 0.05:\n",
    "        chi2_check.append('Reject Null Hypothesis')\n",
    "    else:\n",
    "        chi2_check.append('Fail to Reject Null Hypothesis')\n",
    "res = pd.DataFrame(data = [categorical_columns, chi2_check] \n",
    "             ).T \n",
    "res.columns = ['Column', 'Hypothesis']\n",
    "print(res)"
   ]
  },
  {
   "cell_type": "code",
   "execution_count": 84,
   "id": "convenient-greece",
   "metadata": {},
   "outputs": [
    {
     "name": "stdout",
     "output_type": "stream",
     "text": [
      "             Column              Hypothesis\n",
      "0   Client.Category  Reject Null Hypothesis\n",
      "1     Solution.Type  Reject Null Hypothesis\n",
      "2         Deal.Date  Reject Null Hypothesis\n",
      "3            Sector  Reject Null Hypothesis\n",
      "4          Location  Reject Null Hypothesis\n",
      "5           VP.Name  Reject Null Hypothesis\n",
      "6      Manager.Name  Reject Null Hypothesis\n",
      "7  Deal.Status.Code  Reject Null Hypothesis\n"
     ]
    }
   ],
   "source": [
    "chi2_check = []\n",
    "for i in categorical_columns:\n",
    "    if chi2_contingency(pd.crosstab(d['Manager.Name'], d[i]))[1] < 0.05:\n",
    "        chi2_check.append('Reject Null Hypothesis')\n",
    "    else:\n",
    "        chi2_check.append('Fail to Reject Null Hypothesis')\n",
    "res = pd.DataFrame(data = [categorical_columns, chi2_check] \n",
    "             ).T \n",
    "res.columns = ['Column', 'Hypothesis']\n",
    "print(res)"
   ]
  },
  {
   "cell_type": "code",
   "execution_count": 85,
   "id": "flexible-format",
   "metadata": {},
   "outputs": [],
   "source": [
    "num_columns=d.select_dtypes(include=[np.number]).columns"
   ]
  },
  {
   "cell_type": "code",
   "execution_count": 86,
   "id": "durable-flesh",
   "metadata": {
    "scrolled": true
   },
   "outputs": [
    {
     "name": "stdout",
     "output_type": "stream",
     "text": [
      "             Column              Hypothesis\n",
      "0   Client.Category  Reject Null Hypothesis\n",
      "1     Solution.Type  Reject Null Hypothesis\n",
      "2         Deal.Date  Reject Null Hypothesis\n",
      "3            Sector  Reject Null Hypothesis\n",
      "4          Location  Reject Null Hypothesis\n",
      "5           VP.Name  Reject Null Hypothesis\n",
      "6      Manager.Name  Reject Null Hypothesis\n",
      "7  Deal.Status.Code  Reject Null Hypothesis\n"
     ]
    }
   ],
   "source": [
    "chi2_check = []\n",
    "for i in categorical_columns:\n",
    "    if chi2_contingency(pd.crosstab(d['Deal.Cost'], d[i]))[1] < 0.05:\n",
    "        chi2_check.append('Reject Null Hypothesis')\n",
    "    else:\n",
    "        chi2_check.append('Fail to Reject Null Hypothesis')\n",
    "res = pd.DataFrame(data = [categorical_columns, chi2_check] \n",
    "             ).T \n",
    "res.columns = ['Column', 'Hypothesis']\n",
    "print(res)"
   ]
  },
  {
   "cell_type": "code",
   "execution_count": 49,
   "id": "normal-script",
   "metadata": {},
   "outputs": [],
   "source": [
    "x=d.iloc[:,:-1]\n",
    "y=d.iloc[:,-1]"
   ]
  },
  {
   "cell_type": "code",
   "execution_count": 50,
   "id": "sufficient-afghanistan",
   "metadata": {},
   "outputs": [],
   "source": [
    "x1=pd.get_dummies(d['Client.Category'])\n",
    "x2=pd.get_dummies(d['Sector'])\n",
    "x3=pd.get_dummies(d['Solution.Type'])\n",
    "x4=pd.get_dummies(d['Location'])\n",
    "x5=pd.get_dummies(d['VP.Name'])\n",
    "x6=pd.get_dummies(d['Manager.Name'])"
   ]
  },
  {
   "cell_type": "code",
   "execution_count": 51,
   "id": "crazy-acquisition",
   "metadata": {},
   "outputs": [],
   "source": [
    "from sklearn.preprocessing import LabelEncoder\n",
    "le=LabelEncoder()\n",
    "y_lab=le.fit_transform(y)\n"
   ]
  },
  {
   "cell_type": "markdown",
   "id": "informal-professional",
   "metadata": {},
   "source": [
    "### Post Dummies Testing"
   ]
  },
  {
   "cell_type": "code",
   "execution_count": 87,
   "id": "generous-commissioner",
   "metadata": {},
   "outputs": [
    {
     "data": {
      "text/html": [
       "<div>\n",
       "<style scoped>\n",
       "    .dataframe tbody tr th:only-of-type {\n",
       "        vertical-align: middle;\n",
       "    }\n",
       "\n",
       "    .dataframe tbody tr th {\n",
       "        vertical-align: top;\n",
       "    }\n",
       "\n",
       "    .dataframe thead th {\n",
       "        text-align: right;\n",
       "    }\n",
       "</style>\n",
       "<table border=\"1\" class=\"dataframe\">\n",
       "  <thead>\n",
       "    <tr style=\"text-align: right;\">\n",
       "      <th></th>\n",
       "      <th>Pair</th>\n",
       "      <th>Hypothesis</th>\n",
       "    </tr>\n",
       "  </thead>\n",
       "  <tbody>\n",
       "    <tr>\n",
       "      <th>0</th>\n",
       "      <td>Client.Category-Airpline</td>\n",
       "      <td>Fail to Reject Null Hypothesis</td>\n",
       "    </tr>\n",
       "    <tr>\n",
       "      <th>1</th>\n",
       "      <td>Client.Category-Automobiles</td>\n",
       "      <td>Fail to Reject Null Hypothesis</td>\n",
       "    </tr>\n",
       "    <tr>\n",
       "      <th>2</th>\n",
       "      <td>Client.Category-Consulting</td>\n",
       "      <td>Reject Null Hypothesis</td>\n",
       "    </tr>\n",
       "    <tr>\n",
       "      <th>3</th>\n",
       "      <td>Client.Category-Consumer Good</td>\n",
       "      <td>Fail to Reject Null Hypothesis</td>\n",
       "    </tr>\n",
       "    <tr>\n",
       "      <th>4</th>\n",
       "      <td>Client.Category-Domestic Bank</td>\n",
       "      <td>Fail to Reject Null Hypothesis</td>\n",
       "    </tr>\n",
       "    <tr>\n",
       "      <th>...</th>\n",
       "      <td>...</td>\n",
       "      <td>...</td>\n",
       "    </tr>\n",
       "    <tr>\n",
       "      <th>3019</th>\n",
       "      <td>Manager.Name-sunder paal</td>\n",
       "      <td>Fail to Reject Null Hypothesis</td>\n",
       "    </tr>\n",
       "    <tr>\n",
       "      <th>3020</th>\n",
       "      <td>Manager.Name-vansu dev</td>\n",
       "      <td>Fail to Reject Null Hypothesis</td>\n",
       "    </tr>\n",
       "    <tr>\n",
       "      <th>3021</th>\n",
       "      <td>Manager.Name-vinit katariya</td>\n",
       "      <td>Fail to Reject Null Hypothesis</td>\n",
       "    </tr>\n",
       "    <tr>\n",
       "      <th>3022</th>\n",
       "      <td>Deal.Status.Code-Lost</td>\n",
       "      <td>Reject Null Hypothesis</td>\n",
       "    </tr>\n",
       "    <tr>\n",
       "      <th>3023</th>\n",
       "      <td>Deal.Status.Code-Won</td>\n",
       "      <td>Reject Null Hypothesis</td>\n",
       "    </tr>\n",
       "  </tbody>\n",
       "</table>\n",
       "<p>3024 rows × 2 columns</p>\n",
       "</div>"
      ],
      "text/plain": [
       "                               Pair                      Hypothesis\n",
       "0          Client.Category-Airpline  Fail to Reject Null Hypothesis\n",
       "1       Client.Category-Automobiles  Fail to Reject Null Hypothesis\n",
       "2        Client.Category-Consulting          Reject Null Hypothesis\n",
       "3     Client.Category-Consumer Good  Fail to Reject Null Hypothesis\n",
       "4     Client.Category-Domestic Bank  Fail to Reject Null Hypothesis\n",
       "...                             ...                             ...\n",
       "3019       Manager.Name-sunder paal  Fail to Reject Null Hypothesis\n",
       "3020         Manager.Name-vansu dev  Fail to Reject Null Hypothesis\n",
       "3021    Manager.Name-vinit katariya  Fail to Reject Null Hypothesis\n",
       "3022          Deal.Status.Code-Lost          Reject Null Hypothesis\n",
       "3023           Deal.Status.Code-Won          Reject Null Hypothesis\n",
       "\n",
       "[3024 rows x 2 columns]"
      ]
     },
     "execution_count": 87,
     "metadata": {},
     "output_type": "execute_result"
    }
   ],
   "source": [
    "check = {}\n",
    "for i in res[res['Hypothesis'] == 'Reject Null Hypothesis']['Column']:\n",
    "    dummies = pd.get_dummies(d[i])\n",
    "    bon_p_value = 0.05/d[i].nunique()\n",
    "    for series in dummies:\n",
    "        if chi2_contingency(pd.crosstab(d['Deal.Status.Code'], dummies[series]))[1] < bon_p_value:\n",
    "            check['{}-{}'.format(i, series)] = 'Reject Null Hypothesis'\n",
    "        else:\n",
    "            check['{}-{}'.format(i, series)] = 'Fail to Reject Null Hypothesis'\n",
    "res_chi_ph = pd.DataFrame(data = [check.keys(), check.values()]).T\n",
    "res_chi_ph.columns = ['Pair', 'Hypothesis']\n",
    "res_chi_ph"
   ]
  },
  {
   "cell_type": "code",
   "execution_count": 88,
   "id": "greenhouse-lover",
   "metadata": {},
   "outputs": [],
   "source": [
    "significant_chi = []\n",
    "for i in res_chi_ph[res_chi_ph['Hypothesis'] == 'Reject Null Hypothesis']['Pair']:\n",
    "    significant_chi.append('{}_{}'.format(i.split('-')[0],i.split('-')[1]))"
   ]
  },
  {
   "cell_type": "code",
   "execution_count": 96,
   "id": "amber-aggregate",
   "metadata": {},
   "outputs": [
    {
     "data": {
      "text/plain": [
       "['Client.Category_Consulting',\n",
       " 'Client.Category_Domestic Public Bank',\n",
       " 'Client.Category_Hospitality',\n",
       " 'Client.Category_Internal',\n",
       " 'Client.Category_Retail_market',\n",
       " 'Solution.Type_Solution 10',\n",
       " 'Solution.Type_Solution 12',\n",
       " 'Solution.Type_Solution 20',\n",
       " 'Solution.Type_Solution 30',\n",
       " 'Solution.Type_Solution 31',\n",
       " 'Solution.Type_Solution 32',\n",
       " 'Solution.Type_Solution 39',\n",
       " 'Solution.Type_Solution 4',\n",
       " 'Solution.Type_Solution 52',\n",
       " 'Solution.Type_Solution 67',\n",
       " 'Solution.Type_Solution 8',\n",
       " 'Solution.Type_Solution 9',\n",
       " 'Sector_Sector 13',\n",
       " 'Sector_Sector 20',\n",
       " 'Sector_Sector 21',\n",
       " 'Sector_Sector 9',\n",
       " 'Location_L1',\n",
       " 'Location_L10',\n",
       " 'Location_L5',\n",
       " 'Location_L7',\n",
       " 'Location_L9',\n",
       " 'Location_Others',\n",
       " 'VP.Name_Ankita Aggarwal',\n",
       " 'VP.Name_Ekta Zutshi',\n",
       " 'VP.Name_LongÂ\\xa0Bergstrom',\n",
       " 'VP.Name_MervinÂ\\xa0Harwood',\n",
       " 'VP.Name_RosannaÂ\\xa0Maynez',\n",
       " 'VP.Name_neeraj kumar',\n",
       " 'Manager.Name_Abhinav Warrier',\n",
       " 'Manager.Name_AbramÂ\\xa0Fines',\n",
       " 'Manager.Name_Akshay Sharma',\n",
       " 'Manager.Name_Akshit Khanna',\n",
       " 'Manager.Name_D. Ankit ',\n",
       " 'Manager.Name_DennisÂ\\xa0Faux',\n",
       " 'Manager.Name_DesmondÂ\\xa0Krout',\n",
       " 'Manager.Name_Eesha Yadav',\n",
       " 'Manager.Name_Ekta Zutshi',\n",
       " 'Manager.Name_Harsh Verma',\n",
       " 'Manager.Name_JeanÂ\\xa0Sappington',\n",
       " 'Manager.Name_Jitendra Choudhary',\n",
       " 'Manager.Name_Manish Saundriyal',\n",
       " 'Manager.Name_Md Irshad',\n",
       " 'Manager.Name_Prateek Dhotre',\n",
       " 'Manager.Name_Preetan Gujar',\n",
       " 'Manager.Name_RussellÂ\\xa0Dahlen',\n",
       " 'Manager.Name_Sangeet Daga',\n",
       " 'Manager.Name_Vinay Kumar',\n",
       " 'Manager.Name_neeraj kumar',\n",
       " 'Manager.Name_ram kumar',\n",
       " 'Deal.Status.Code_Lost',\n",
       " 'Deal.Status.Code_Won']"
      ]
     },
     "execution_count": 96,
     "metadata": {},
     "output_type": "execute_result"
    }
   ],
   "source": [
    "significant_chi"
   ]
  },
  {
   "cell_type": "code",
   "execution_count": 89,
   "id": "configured-anaheim",
   "metadata": {},
   "outputs": [],
   "source": [
    "signi_chi=pd.DataFrame(significant_chi)"
   ]
  },
  {
   "cell_type": "code",
   "execution_count": 90,
   "id": "electrical-singapore",
   "metadata": {
    "scrolled": true
   },
   "outputs": [
    {
     "data": {
      "text/html": [
       "<div>\n",
       "<style scoped>\n",
       "    .dataframe tbody tr th:only-of-type {\n",
       "        vertical-align: middle;\n",
       "    }\n",
       "\n",
       "    .dataframe tbody tr th {\n",
       "        vertical-align: top;\n",
       "    }\n",
       "\n",
       "    .dataframe thead th {\n",
       "        text-align: right;\n",
       "    }\n",
       "</style>\n",
       "<table border=\"1\" class=\"dataframe\">\n",
       "  <thead>\n",
       "    <tr style=\"text-align: right;\">\n",
       "      <th></th>\n",
       "      <th>0</th>\n",
       "    </tr>\n",
       "  </thead>\n",
       "  <tbody>\n",
       "    <tr>\n",
       "      <th>0</th>\n",
       "      <td>Client.Category_Consulting</td>\n",
       "    </tr>\n",
       "    <tr>\n",
       "      <th>1</th>\n",
       "      <td>Client.Category_Domestic Public Bank</td>\n",
       "    </tr>\n",
       "    <tr>\n",
       "      <th>2</th>\n",
       "      <td>Client.Category_Hospitality</td>\n",
       "    </tr>\n",
       "    <tr>\n",
       "      <th>3</th>\n",
       "      <td>Client.Category_Internal</td>\n",
       "    </tr>\n",
       "    <tr>\n",
       "      <th>4</th>\n",
       "      <td>Client.Category_Retail_market</td>\n",
       "    </tr>\n",
       "    <tr>\n",
       "      <th>5</th>\n",
       "      <td>Solution.Type_Solution 10</td>\n",
       "    </tr>\n",
       "    <tr>\n",
       "      <th>6</th>\n",
       "      <td>Solution.Type_Solution 12</td>\n",
       "    </tr>\n",
       "    <tr>\n",
       "      <th>7</th>\n",
       "      <td>Solution.Type_Solution 20</td>\n",
       "    </tr>\n",
       "    <tr>\n",
       "      <th>8</th>\n",
       "      <td>Solution.Type_Solution 30</td>\n",
       "    </tr>\n",
       "    <tr>\n",
       "      <th>9</th>\n",
       "      <td>Solution.Type_Solution 31</td>\n",
       "    </tr>\n",
       "    <tr>\n",
       "      <th>10</th>\n",
       "      <td>Solution.Type_Solution 32</td>\n",
       "    </tr>\n",
       "    <tr>\n",
       "      <th>11</th>\n",
       "      <td>Solution.Type_Solution 39</td>\n",
       "    </tr>\n",
       "    <tr>\n",
       "      <th>12</th>\n",
       "      <td>Solution.Type_Solution 4</td>\n",
       "    </tr>\n",
       "    <tr>\n",
       "      <th>13</th>\n",
       "      <td>Solution.Type_Solution 52</td>\n",
       "    </tr>\n",
       "    <tr>\n",
       "      <th>14</th>\n",
       "      <td>Solution.Type_Solution 67</td>\n",
       "    </tr>\n",
       "    <tr>\n",
       "      <th>15</th>\n",
       "      <td>Solution.Type_Solution 8</td>\n",
       "    </tr>\n",
       "    <tr>\n",
       "      <th>16</th>\n",
       "      <td>Solution.Type_Solution 9</td>\n",
       "    </tr>\n",
       "    <tr>\n",
       "      <th>17</th>\n",
       "      <td>Sector_Sector 13</td>\n",
       "    </tr>\n",
       "    <tr>\n",
       "      <th>18</th>\n",
       "      <td>Sector_Sector 20</td>\n",
       "    </tr>\n",
       "    <tr>\n",
       "      <th>19</th>\n",
       "      <td>Sector_Sector 21</td>\n",
       "    </tr>\n",
       "    <tr>\n",
       "      <th>20</th>\n",
       "      <td>Sector_Sector 9</td>\n",
       "    </tr>\n",
       "    <tr>\n",
       "      <th>21</th>\n",
       "      <td>Location_L1</td>\n",
       "    </tr>\n",
       "    <tr>\n",
       "      <th>22</th>\n",
       "      <td>Location_L10</td>\n",
       "    </tr>\n",
       "    <tr>\n",
       "      <th>23</th>\n",
       "      <td>Location_L5</td>\n",
       "    </tr>\n",
       "    <tr>\n",
       "      <th>24</th>\n",
       "      <td>Location_L7</td>\n",
       "    </tr>\n",
       "    <tr>\n",
       "      <th>25</th>\n",
       "      <td>Location_L9</td>\n",
       "    </tr>\n",
       "    <tr>\n",
       "      <th>26</th>\n",
       "      <td>Location_Others</td>\n",
       "    </tr>\n",
       "    <tr>\n",
       "      <th>27</th>\n",
       "      <td>VP.Name_Ankita Aggarwal</td>\n",
       "    </tr>\n",
       "    <tr>\n",
       "      <th>28</th>\n",
       "      <td>VP.Name_Ekta Zutshi</td>\n",
       "    </tr>\n",
       "    <tr>\n",
       "      <th>29</th>\n",
       "      <td>VP.Name_LongÂ Bergstrom</td>\n",
       "    </tr>\n",
       "    <tr>\n",
       "      <th>30</th>\n",
       "      <td>VP.Name_MervinÂ Harwood</td>\n",
       "    </tr>\n",
       "    <tr>\n",
       "      <th>31</th>\n",
       "      <td>VP.Name_RosannaÂ Maynez</td>\n",
       "    </tr>\n",
       "    <tr>\n",
       "      <th>32</th>\n",
       "      <td>VP.Name_neeraj kumar</td>\n",
       "    </tr>\n",
       "    <tr>\n",
       "      <th>33</th>\n",
       "      <td>Manager.Name_Abhinav Warrier</td>\n",
       "    </tr>\n",
       "    <tr>\n",
       "      <th>34</th>\n",
       "      <td>Manager.Name_AbramÂ Fines</td>\n",
       "    </tr>\n",
       "    <tr>\n",
       "      <th>35</th>\n",
       "      <td>Manager.Name_Akshay Sharma</td>\n",
       "    </tr>\n",
       "    <tr>\n",
       "      <th>36</th>\n",
       "      <td>Manager.Name_Akshit Khanna</td>\n",
       "    </tr>\n",
       "    <tr>\n",
       "      <th>37</th>\n",
       "      <td>Manager.Name_D. Ankit</td>\n",
       "    </tr>\n",
       "    <tr>\n",
       "      <th>38</th>\n",
       "      <td>Manager.Name_DennisÂ Faux</td>\n",
       "    </tr>\n",
       "    <tr>\n",
       "      <th>39</th>\n",
       "      <td>Manager.Name_DesmondÂ Krout</td>\n",
       "    </tr>\n",
       "    <tr>\n",
       "      <th>40</th>\n",
       "      <td>Manager.Name_Eesha Yadav</td>\n",
       "    </tr>\n",
       "    <tr>\n",
       "      <th>41</th>\n",
       "      <td>Manager.Name_Ekta Zutshi</td>\n",
       "    </tr>\n",
       "    <tr>\n",
       "      <th>42</th>\n",
       "      <td>Manager.Name_Harsh Verma</td>\n",
       "    </tr>\n",
       "    <tr>\n",
       "      <th>43</th>\n",
       "      <td>Manager.Name_JeanÂ Sappington</td>\n",
       "    </tr>\n",
       "    <tr>\n",
       "      <th>44</th>\n",
       "      <td>Manager.Name_Jitendra Choudhary</td>\n",
       "    </tr>\n",
       "    <tr>\n",
       "      <th>45</th>\n",
       "      <td>Manager.Name_Manish Saundriyal</td>\n",
       "    </tr>\n",
       "    <tr>\n",
       "      <th>46</th>\n",
       "      <td>Manager.Name_Md Irshad</td>\n",
       "    </tr>\n",
       "    <tr>\n",
       "      <th>47</th>\n",
       "      <td>Manager.Name_Prateek Dhotre</td>\n",
       "    </tr>\n",
       "    <tr>\n",
       "      <th>48</th>\n",
       "      <td>Manager.Name_Preetan Gujar</td>\n",
       "    </tr>\n",
       "    <tr>\n",
       "      <th>49</th>\n",
       "      <td>Manager.Name_RussellÂ Dahlen</td>\n",
       "    </tr>\n",
       "    <tr>\n",
       "      <th>50</th>\n",
       "      <td>Manager.Name_Sangeet Daga</td>\n",
       "    </tr>\n",
       "    <tr>\n",
       "      <th>51</th>\n",
       "      <td>Manager.Name_Vinay Kumar</td>\n",
       "    </tr>\n",
       "    <tr>\n",
       "      <th>52</th>\n",
       "      <td>Manager.Name_neeraj kumar</td>\n",
       "    </tr>\n",
       "    <tr>\n",
       "      <th>53</th>\n",
       "      <td>Manager.Name_ram kumar</td>\n",
       "    </tr>\n",
       "    <tr>\n",
       "      <th>54</th>\n",
       "      <td>Deal.Status.Code_Lost</td>\n",
       "    </tr>\n",
       "    <tr>\n",
       "      <th>55</th>\n",
       "      <td>Deal.Status.Code_Won</td>\n",
       "    </tr>\n",
       "  </tbody>\n",
       "</table>\n",
       "</div>"
      ],
      "text/plain": [
       "                                       0\n",
       "0             Client.Category_Consulting\n",
       "1   Client.Category_Domestic Public Bank\n",
       "2            Client.Category_Hospitality\n",
       "3               Client.Category_Internal\n",
       "4          Client.Category_Retail_market\n",
       "5              Solution.Type_Solution 10\n",
       "6              Solution.Type_Solution 12\n",
       "7              Solution.Type_Solution 20\n",
       "8              Solution.Type_Solution 30\n",
       "9              Solution.Type_Solution 31\n",
       "10             Solution.Type_Solution 32\n",
       "11             Solution.Type_Solution 39\n",
       "12              Solution.Type_Solution 4\n",
       "13             Solution.Type_Solution 52\n",
       "14             Solution.Type_Solution 67\n",
       "15              Solution.Type_Solution 8\n",
       "16              Solution.Type_Solution 9\n",
       "17                      Sector_Sector 13\n",
       "18                      Sector_Sector 20\n",
       "19                      Sector_Sector 21\n",
       "20                       Sector_Sector 9\n",
       "21                           Location_L1\n",
       "22                          Location_L10\n",
       "23                           Location_L5\n",
       "24                           Location_L7\n",
       "25                           Location_L9\n",
       "26                       Location_Others\n",
       "27               VP.Name_Ankita Aggarwal\n",
       "28                   VP.Name_Ekta Zutshi\n",
       "29               VP.Name_LongÂ Bergstrom\n",
       "30               VP.Name_MervinÂ Harwood\n",
       "31               VP.Name_RosannaÂ Maynez\n",
       "32                  VP.Name_neeraj kumar\n",
       "33          Manager.Name_Abhinav Warrier\n",
       "34             Manager.Name_AbramÂ Fines\n",
       "35            Manager.Name_Akshay Sharma\n",
       "36            Manager.Name_Akshit Khanna\n",
       "37                Manager.Name_D. Ankit \n",
       "38             Manager.Name_DennisÂ Faux\n",
       "39           Manager.Name_DesmondÂ Krout\n",
       "40              Manager.Name_Eesha Yadav\n",
       "41              Manager.Name_Ekta Zutshi\n",
       "42              Manager.Name_Harsh Verma\n",
       "43         Manager.Name_JeanÂ Sappington\n",
       "44       Manager.Name_Jitendra Choudhary\n",
       "45        Manager.Name_Manish Saundriyal\n",
       "46                Manager.Name_Md Irshad\n",
       "47           Manager.Name_Prateek Dhotre\n",
       "48            Manager.Name_Preetan Gujar\n",
       "49          Manager.Name_RussellÂ Dahlen\n",
       "50             Manager.Name_Sangeet Daga\n",
       "51              Manager.Name_Vinay Kumar\n",
       "52             Manager.Name_neeraj kumar\n",
       "53                Manager.Name_ram kumar\n",
       "54                 Deal.Status.Code_Lost\n",
       "55                  Deal.Status.Code_Won"
      ]
     },
     "execution_count": 90,
     "metadata": {},
     "output_type": "execute_result"
    }
   ],
   "source": [
    "signi_chi"
   ]
  },
  {
   "cell_type": "code",
   "execution_count": null,
   "id": "figured-color",
   "metadata": {},
   "outputs": [],
   "source": []
  },
  {
   "cell_type": "code",
   "execution_count": null,
   "id": "therapeutic-transfer",
   "metadata": {},
   "outputs": [],
   "source": []
  },
  {
   "cell_type": "code",
   "execution_count": null,
   "id": "several-electronics",
   "metadata": {},
   "outputs": [],
   "source": []
  },
  {
   "cell_type": "code",
   "execution_count": null,
   "id": "ordered-nelson",
   "metadata": {},
   "outputs": [],
   "source": []
  },
  {
   "cell_type": "code",
   "execution_count": null,
   "id": "sustained-bahrain",
   "metadata": {},
   "outputs": [],
   "source": []
  },
  {
   "cell_type": "code",
   "execution_count": null,
   "id": "nominated-poetry",
   "metadata": {},
   "outputs": [],
   "source": []
  },
  {
   "cell_type": "code",
   "execution_count": null,
   "id": "particular-colors",
   "metadata": {},
   "outputs": [],
   "source": []
  }
 ],
 "metadata": {
  "kernelspec": {
   "display_name": "Python 3",
   "language": "python",
   "name": "python3"
  },
  "language_info": {
   "codemirror_mode": {
    "name": "ipython",
    "version": 3
   },
   "file_extension": ".py",
   "mimetype": "text/x-python",
   "name": "python",
   "nbconvert_exporter": "python",
   "pygments_lexer": "ipython3",
   "version": "3.8.5"
  },
  "latex_envs": {
   "LaTeX_envs_menu_present": true,
   "autoclose": false,
   "autocomplete": true,
   "bibliofile": "biblio.bib",
   "cite_by": "apalike",
   "current_citInitial": 1,
   "eqLabelWithNumbers": true,
   "eqNumInitial": 1,
   "hotkeys": {
    "equation": "Ctrl-E",
    "itemize": "Ctrl-I"
   },
   "labels_anchors": false,
   "latex_user_defs": false,
   "report_style_numbering": false,
   "user_envs_cfg": false
  }
 },
 "nbformat": 4,
 "nbformat_minor": 5
}
